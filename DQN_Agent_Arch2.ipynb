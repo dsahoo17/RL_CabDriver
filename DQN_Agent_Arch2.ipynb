{
 "cells": [
  {
   "cell_type": "markdown",
   "metadata": {},
   "source": [
    "### Cab-Driver Agent"
   ]
  },
  {
   "cell_type": "code",
   "execution_count": 12,
   "metadata": {},
   "outputs": [],
   "source": [
    "# Importing libraries\n",
    "import numpy as np\n",
    "import random\n",
    "import math\n",
    "from collections import deque\n",
    "import collections\n",
    "import pickle\n",
    "\n",
    "# for building DQN model\n",
    "from keras import layers\n",
    "from keras import Sequential\n",
    "from keras.layers import Dense, Activation, Flatten\n",
    "from keras.optimizers import Adam\n",
    "\n",
    "# for plotting graphs\n",
    "import matplotlib.pyplot as plt\n",
    "\n",
    "# Import the environment\n",
    "from Env import CabDriver\n",
    "import os\n",
    "import collections\n"
   ]
  },
  {
   "cell_type": "markdown",
   "metadata": {},
   "source": [
    "#### Defining Time Matrix"
   ]
  },
  {
   "cell_type": "code",
   "execution_count": 13,
   "metadata": {},
   "outputs": [],
   "source": [
    "# Loading the time matrix provided\n",
    "Time_matrix = np.load(\"TM.npy\")"
   ]
  },
  {
   "cell_type": "markdown",
   "metadata": {},
   "source": [
    "#### Tracking the state-action pairs for checking convergence\n"
   ]
  },
  {
   "cell_type": "code",
   "execution_count": 15,
   "metadata": {},
   "outputs": [
    {
     "name": "stdout",
     "output_type": "stream",
     "text": [
      "0\n",
      "840\n",
      "0\n"
     ]
    }
   ],
   "source": [
    "Q_dict = collections.defaultdict(dict)\n",
    "\n",
    "States_track = collections.defaultdict(dict)\n",
    "\n",
    "rewards_tracked = {}\n",
    "for i in range(0,5):\n",
    "    for j in range(0,24):\n",
    "        for k in range(0,7):\n",
    "            rewards_tracked[(i,j,k)]=[]\n",
    "\n",
    "\n",
    "print(len(Q_dict))\n",
    "print(len(rewards_tracked))\n",
    "print(len(States_track))\n"
   ]
  },
  {
   "cell_type": "code",
   "execution_count": 16,
   "metadata": {},
   "outputs": [],
   "source": [
    "total_actions=[(0,0)]\n",
    "for i in range(0,5):\n",
    "    for j in range(0,5):\n",
    "        if i!=j:\n",
    "            total_actions.append((i,j))\n",
    "\n",
    "total_state = [(i,j,k) for i in range(0,5) for j in range(0,24) for k in range(0,7)]\n",
    "\n",
    "for state in total_state:\n",
    "    Q_dict[state] = {}\n",
    "    for action in total_actions:\n",
    "        Q_dict[state][action] = 0.0\n",
    "        "
   ]
  },
  {
   "cell_type": "code",
   "execution_count": 17,
   "metadata": {},
   "outputs": [],
   "source": [
    "def find_action_indx(val):\n",
    "    for i,item in enumerate(total_actions):\n",
    "        if val == item:\n",
    "            return i\n",
    "    return 0\n",
    "\n",
    "def convert_into_str(arr):\n",
    "    text=\"\"\n",
    "    for val in arr:\n",
    "        text=text+\"-\"+str(int(val))\n",
    "    return text\n",
    "\n"
   ]
  },
  {
   "cell_type": "code",
   "execution_count": 18,
   "metadata": {},
   "outputs": [
    {
     "data": {
      "text/plain": [
       "0.0"
      ]
     },
     "execution_count": 18,
     "metadata": {},
     "output_type": "execute_result"
    }
   ],
   "source": [
    "Q_dict[(0,0,0)][0,1]"
   ]
  },
  {
   "cell_type": "code",
   "execution_count": 19,
   "metadata": {},
   "outputs": [],
   "source": [
    "#Defining a function to save the Q-dictionary as a pickle file\n",
    "def save_obj(obj, name ):\n",
    "    with open(name + '.pkl', 'wb') as f:\n",
    "        pickle.dump(obj, f, pickle.HIGHEST_PROTOCOL)"
   ]
  },
  {
   "cell_type": "markdown",
   "metadata": {},
   "source": [
    "### Agent Class\n",
    "\n",
    "If you are using this framework, you need to fill the following to complete the following code block:\n",
    "1. State and Action Size\n",
    "2. Hyperparameters\n",
    "3. Create a neural-network model in function 'build_model()'\n",
    "4. Define epsilon-greedy strategy in function 'get_action()'\n",
    "5. Complete the function 'append_sample()'. This function appends the recent experience tuple <state, action, reward, new-state> to the memory\n",
    "6. Complete the 'train_model()' function with following logic:\n",
    "   - If the memory size is greater than mini-batch size, you randomly sample experiences from memory as per the mini-batch size and do the following:\n",
    "      - Initialise your input and output batch for training the model\n",
    "      - Calculate the target Q value for each sample: reward + gamma*max(Q(s'a,))\n",
    "      - Get Q(s', a) values from the last trained model\n",
    "      - Update the input batch as your encoded state-action and output batch as your Q-values\n",
    "      - Then fit your DQN model using the updated input and output batch."
   ]
  },
  {
   "cell_type": "code",
   "execution_count": 20,
   "metadata": {},
   "outputs": [],
   "source": [
    "class DQNAgent:\n",
    "    def __init__(self, state_size, action_size):\n",
    "        # Define size of state and action\n",
    "        self.state_size = state_size\n",
    "        self.action_size = action_size\n",
    "\n",
    "        # Write here: Specify you hyper parameters for the DQN\n",
    "        self.discount_factor = 0.75\n",
    "        self.learning_rate =  0.01    \n",
    "        self.epsilon_max = 0.99\n",
    "        self.epsilon_decay = -0.00005\n",
    "        self.epsilon_min = 0.01\n",
    "        self.batch_size = 32\n",
    "        self.epsilon = 1\n",
    "        # create replay memory using deque\n",
    "        self.memory = deque(maxlen=2000)\n",
    "\n",
    "        # create main model and target model\n",
    "        self.model = self.build_model()\n",
    "\n",
    "\n",
    "    # approximate Q function using Neural Network\n",
    "    def build_model(self):\n",
    "        input_shape=self.state_size\n",
    "        model = Sequential()\n",
    "        # Write your code here: Add layers to your neural nets\n",
    "        model.add(Dense(32, input_dim=self.state_size, activation='relu', kernel_initializer='he_uniform'))\n",
    "        model.add(Dense(32, activation='relu', kernel_initializer='he_uniform'))\n",
    "\n",
    "        # the output layer: output is of size num_actions\n",
    "        model.add(Dense(self.action_size, activation='relu', kernel_initializer='he_uniform'))\n",
    "        \n",
    "        model.compile(loss='mse',optimizer=Adam(lr=self.learning_rate))\n",
    "        model.summary\n",
    "        return model\n",
    "\n",
    "\n",
    "\n",
    "    def get_action(self, state, action):\n",
    "        # Write your code here:\n",
    "        # get action from model using epsilon-greedy policy\n",
    "        # Decay in ε after we generate each sample from the environment\n",
    "        if np.random.rand() <= self.epsilon:\n",
    "            return action[random.randrange(self.action_size)]\n",
    "        else:\n",
    "            state = state.reshape(1, self.state_size)\n",
    "            q_value = self.model.predict(state)\n",
    "            return total_actions[np.argmax(q_value[0])]\n",
    "\n",
    "        \n",
    "    \n",
    "\n",
    "    def append_sample(self, state, action, reward, next_state):\n",
    "        # Write your code here:\n",
    "        # save sample <s,a,r,s'> to the replay memory\n",
    "        self.memory.append((state, action, reward, next_state))\n",
    "    \n",
    "\n",
    "    # pick samples randomly from replay memory (with batch_size) and train the network\n",
    "    def train_model(self,terminal_state):\n",
    "        if len(self.memory) > self.batch_size:\n",
    "            # Sample batch from the memory\n",
    "            mini_batch = random.sample(self.memory, self.batch_size)\n",
    "            update_output = np.zeros((self.batch_size, self.state_size))\n",
    "            update_input = np.zeros((self.batch_size, self.state_size))\n",
    "            actions, rewards = [], []\n",
    "            \n",
    "            for i in range(self.batch_size):\n",
    "                state, action, reward, next_state = mini_batch[i]\n",
    "                state_encod = env.state_encod_arch2(state,action)\n",
    "                \n",
    "                update_input[i] = state_encod\n",
    "                actions.append(action)\n",
    "                rewards.append(reward)\n",
    "                update_output[i] = env.state_encod_arch2(next_state,(0,0))\n",
    "            \n",
    "            target = self.model.predict(update_input)\n",
    "\n",
    "            target_qval = self.model.predict(update_output)\n",
    "            for i in range(self.batch_size):\n",
    "                if terminal_state:\n",
    "                    target[i][find_action_indx(actions[i])] = rewards[i]\n",
    "                else: # non-terminal state\n",
    "                    target[i][find_action_indx(actions[i])] = rewards[i] + self.discount_factor * np.max(target_qval[i])\n",
    "\n",
    "            # model fit\n",
    "            self.model.fit(update_input, target, batch_size=self.batch_size, epochs=1, verbose=0)\n",
    "                \n",
    "        # 4. Fit your model and track the loss values\n",
    "\n",
    "\n",
    "\n",
    "    def save(self, name):\n",
    "        self.model.save_weights(name)"
   ]
  },
  {
   "cell_type": "code",
   "execution_count": 21,
   "metadata": {},
   "outputs": [],
   "source": [
    "Episodes = 20000"
   ]
  },
  {
   "cell_type": "markdown",
   "metadata": {},
   "source": [
    "### DQN block"
   ]
  },
  {
   "cell_type": "code",
   "execution_count": null,
   "metadata": {},
   "outputs": [
    {
     "name": "stdout",
     "output_type": "stream",
     "text": [
      "episode 10000, reward 791.0, memory_length 722, epsilon -3.032622972030182e-05\n",
      "episode 10001, reward 2562.0, memory_length 1444, epsilon -3.0324713446722957e-05\n",
      "episode 10002, reward 2670.0, memory_length 2000, epsilon -3.032319724895588e-05\n",
      "episode 10003, reward 3249.0, memory_length 2000, epsilon -3.0321681126996798e-05\n",
      "episode 10004, reward 795.0, memory_length 2000, epsilon -3.0320165080841918e-05\n",
      "episode 10005, reward 1093.0, memory_length 2000, epsilon -3.031864911048745e-05\n",
      "episode 10006, reward 1135.0, memory_length 2000, epsilon -3.0317133215929605e-05\n",
      "episode 10007, reward 622.0, memory_length 2000, epsilon -3.0315617397164592e-05\n",
      "episode 10008, reward 1161.0, memory_length 2000, epsilon -3.0314101654188625e-05\n",
      "episode 10009, reward 1412.0, memory_length 2000, epsilon -3.0312585986997916e-05\n",
      "episode 10010, reward 1991.0, memory_length 2000, epsilon -3.0311070395588666e-05\n",
      "episode 10011, reward 1194.0, memory_length 2000, epsilon -3.030955487995709e-05\n",
      "episode 10012, reward 725.0, memory_length 2000, epsilon -3.0308039440099405e-05\n",
      "episode 10013, reward 747.0, memory_length 2000, epsilon -3.0306524076011816e-05\n",
      "episode 10014, reward 2271.0, memory_length 2000, epsilon -3.030500878769054e-05\n",
      "episode 10015, reward 2867.0, memory_length 2000, epsilon -3.0303493575131786e-05\n",
      "episode 10016, reward 2278.0, memory_length 2000, epsilon -3.0301978438331763e-05\n",
      "episode 10017, reward 1150.0, memory_length 2000, epsilon -3.030046337728669e-05\n",
      "episode 10018, reward 2460.0, memory_length 2000, epsilon -3.029894839199277e-05\n",
      "episode 10019, reward 2906.0, memory_length 2000, epsilon -3.029743348244623e-05\n",
      "episode 10020, reward 2178.0, memory_length 2000, epsilon -3.0295918648643267e-05\n",
      "episode 10021, reward 1677.0, memory_length 2000, epsilon -3.0294403890580104e-05\n",
      "episode 10022, reward 1854.0, memory_length 2000, epsilon -3.029288920825295e-05\n",
      "episode 10023, reward 1151.0, memory_length 2000, epsilon -3.0291374601658014e-05\n",
      "episode 10024, reward 264.0, memory_length 2000, epsilon -3.028986007079152e-05\n",
      "episode 10025, reward 1499.0, memory_length 2000, epsilon -3.028834561564967e-05\n",
      "episode 10026, reward 1630.0, memory_length 2000, epsilon -3.028683123622869e-05\n",
      "episode 10027, reward 173.0, memory_length 2000, epsilon -3.028531693252479e-05\n",
      "episode 10028, reward 2176.0, memory_length 2000, epsilon -3.0283802704534174e-05\n",
      "episode 10029, reward 3217.0, memory_length 2000, epsilon -3.0282288552253075e-05\n",
      "episode 10030, reward 2771.0, memory_length 2000, epsilon -3.0280774475677693e-05\n",
      "episode 10031, reward 2738.0, memory_length 2000, epsilon -3.0279260474804245e-05\n",
      "episode 10032, reward 2864.0, memory_length 2000, epsilon -3.0277746549628948e-05\n",
      "episode 10033, reward 3477.0, memory_length 2000, epsilon -3.0276232700148016e-05\n",
      "episode 10034, reward 2590.0, memory_length 2000, epsilon -3.0274718926357677e-05\n",
      "episode 10035, reward 1706.0, memory_length 2000, epsilon -3.027320522825412e-05\n",
      "episode 10036, reward 2433.0, memory_length 2000, epsilon -3.0271691605833586e-05\n",
      "episode 10037, reward 2777.0, memory_length 2000, epsilon -3.027017805909228e-05\n",
      "episode 10038, reward 2464.0, memory_length 2000, epsilon -3.026866458802641e-05\n",
      "episode 10039, reward 2568.0, memory_length 2000, epsilon -3.0267151192632216e-05\n",
      "episode 10040, reward 2585.0, memory_length 2000, epsilon -3.0265637872905896e-05\n",
      "episode 10041, reward 3631.0, memory_length 2000, epsilon -3.026412462884366e-05\n",
      "episode 10042, reward 2398.0, memory_length 2000, epsilon -3.026261146044174e-05\n",
      "episode 10043, reward 1923.0, memory_length 2000, epsilon -3.0261098367696357e-05\n",
      "episode 10044, reward 2148.0, memory_length 2000, epsilon -3.0259585350603715e-05\n",
      "episode 10045, reward 2420.0, memory_length 2000, epsilon -3.025807240916004e-05\n",
      "episode 10046, reward 2420.0, memory_length 2000, epsilon -3.025655954336154e-05\n",
      "episode 10047, reward 2553.0, memory_length 2000, epsilon -3.0255046753204434e-05\n",
      "episode 10048, reward 2633.0, memory_length 2000, epsilon -3.0253534038684954e-05\n"
     ]
    }
   ],
   "source": [
    "env = CabDriver()\n",
    "state_size = 5+7+24+5+5 # equal to 4 in case of cartpole \n",
    "action_size = len(env.action_space)            # equal to 2 in case of cartpole\n",
    "agent= DQNAgent(state_size,action_size)\n",
    "rewards_per_episode, episodes = [], []\n",
    "\n",
    "LR = agent.learning_rate\n",
    "GAMMA = agent.discount_factor\n",
    "threshold = 2000\n",
    "policy_threshold = 30000\n",
    "if not os.path.exists(\"saved_model_weights\"):\n",
    "    os.mkdir(\"saved_model_weights\")\n",
    "    \n",
    "for episode in range(10000,Episodes):\n",
    "    \n",
    "    score = 0\n",
    "    time_stamp=0\n",
    "    action_space,state_space,state = env.reset()\n",
    "    # Write code here\n",
    "    # Call the environment\n",
    "    # Call all the initialised variables of the environment\n",
    "#     agent.epsilon = - 1/ (1 + np.exp((-episode+7500000)/17000000)) + 1\n",
    "    agent.epsilon = (1 - 0.00001) * np.exp(agent.epsilon_decay * episode)\n",
    "    \n",
    "    initial_state = env.state_init\n",
    "    #Call the DQN agent\n",
    "    terminal_state=False\n",
    "    while not terminal_state:\n",
    "#         agent.epsilon = agent.epsilon_min + (agent.epsilon_max - agent.epsilon_min) * np.exp(-agent.epsilon_decay*episode)\n",
    "        if time_stamp > 30*24:\n",
    "            terminal_state=True;\n",
    "        z = np.random.random()\n",
    "        time_stamp+=1\n",
    "        action = env.requests(state)[1]\n",
    "        agent.action_size=len(action)\n",
    "        take_action=agent.get_action(env.state_encod_arch2(state,(0,0)),action)\n",
    "        next_state = env.next_state_func(state,take_action,Time_matrix)\n",
    "        reward= env.reward_func(state,take_action,Time_matrix)\n",
    "        agent.append_sample(state, take_action, reward, next_state)\n",
    "        max_next = max(Q_dict[next_state],key=Q_dict[next_state].get)\n",
    "        Q_dict[state][take_action] += LR * ((reward + (GAMMA*(Q_dict[next_state][max_next]))) - Q_dict[state][take_action] ) \n",
    "            \n",
    "\n",
    "            \n",
    "        score += reward\n",
    "        state = next_state\n",
    "\n",
    "        agent.train_model(terminal_state)\n",
    "        \n",
    "    \n",
    "        \n",
    "    rewards_per_episode.append(score)\n",
    "    episodes.append(episode)\n",
    "    \n",
    "    if agent.epsilon > agent.epsilon_min:\n",
    "        agent.epsilon *= agent.epsilon_decay\n",
    "        \n",
    "    print(\"episode {0}, reward {1}, memory_length {2}, epsilon {3}\".format(episode,\n",
    "                                                                         score,\n",
    "                                                                         len(agent.memory),\n",
    "                                                                         agent.epsilon))\n",
    "    if episode % 10 == 0:\n",
    "        # store q-values of some prespecified state-action pairs\n",
    "        # q_dict = agent.store_q_values()\n",
    "\n",
    "        # save model weights\n",
    "        agent.save(name=\"model_weights.h5\")\n",
    "\n",
    "    if initial_state in rewards_tracked:     #storing rewards\n",
    "        rewards_tracked[initial_state].append(score)\n",
    "        #save_obj(rewards_tracked,'Rewards')\n",
    "\n",
    "    if ((episode+1) % threshold) == 0:   #every 2000th episode\n",
    "        save_obj(rewards_tracked,'Rewards')   \n",
    "    \n",
    "    #TRACKING Q-VALUES\n",
    "    if (episode == threshold-1):        #at the 1999th episode\n",
    "        initialise_tracking_states()\n",
    "      \n",
    "    if ((episode+1) % threshold) == 0:   #every 2000th episode\n",
    "        save_tracking_states()\n",
    "        save_obj(States_track,'States_tracked')   \n",
    "    \n",
    "    #SAVING POLICY\n",
    "    if ((episode+1)% policy_threshold ) == 0:  #every 30000th episodes, the Q-dict will be saved\n",
    "        save_obj(Q_dict,'Policy')    \n",
    "        \n",
    "        \n",
    "save_obj(rewards_tracked,'Rewards')   \n",
    "save_obj(States_track,'States_tracked')   \n",
    "save_obj(Q_dict,'Policy')      \n",
    "print(episode)\n",
    "    \n",
    "    "
   ]
  },
  {
   "cell_type": "code",
   "execution_count": null,
   "metadata": {},
   "outputs": [],
   "source": [
    "for arr in env.state_space:\n",
    "    if arr[2]==25:\n",
    "        print(arr)"
   ]
  },
  {
   "cell_type": "code",
   "execution_count": null,
   "metadata": {},
   "outputs": [],
   "source": [
    "env.state_space"
   ]
  },
  {
   "cell_type": "markdown",
   "metadata": {},
   "source": [
    "### Tracking Convergence"
   ]
  },
  {
   "cell_type": "code",
   "execution_count": null,
   "metadata": {},
   "outputs": [],
   "source": []
  },
  {
   "cell_type": "code",
   "execution_count": null,
   "metadata": {},
   "outputs": [],
   "source": []
  },
  {
   "cell_type": "code",
   "execution_count": null,
   "metadata": {},
   "outputs": [],
   "source": []
  },
  {
   "cell_type": "markdown",
   "metadata": {},
   "source": [
    "#### Epsilon-decay sample function"
   ]
  },
  {
   "cell_type": "markdown",
   "metadata": {},
   "source": [
    "<div class=\"alert alert-block alert-info\">\n",
    "Try building a similar epsilon-decay function for your model.\n",
    "</div>"
   ]
  },
  {
   "cell_type": "code",
   "execution_count": null,
   "metadata": {},
   "outputs": [],
   "source": [
    "time = np.arange(0,10000)\n",
    "epsilon = []\n",
    "for i in range(0,10000):\n",
    "    epsilon.append(0 + (1 - 0) * np.exp(-0.0009*i))"
   ]
  },
  {
   "cell_type": "code",
   "execution_count": null,
   "metadata": {},
   "outputs": [],
   "source": [
    "plt.plot(time, epsilon)\n",
    "plt.show()"
   ]
  },
  {
   "cell_type": "code",
   "execution_count": null,
   "metadata": {},
   "outputs": [],
   "source": [
    "env = CabDriver()\n",
    "state_size = env.state_space.shape[0]"
   ]
  },
  {
   "cell_type": "code",
   "execution_count": null,
   "metadata": {},
   "outputs": [],
   "source": [
    "state_size"
   ]
  },
  {
   "cell_type": "code",
   "execution_count": null,
   "metadata": {},
   "outputs": [],
   "source": []
  },
  {
   "cell_type": "code",
   "execution_count": null,
   "metadata": {},
   "outputs": [],
   "source": [
    "\n"
   ]
  },
  {
   "cell_type": "code",
   "execution_count": null,
   "metadata": {},
   "outputs": [],
   "source": []
  },
  {
   "cell_type": "code",
   "execution_count": null,
   "metadata": {},
   "outputs": [],
   "source": []
  },
  {
   "cell_type": "code",
   "execution_count": null,
   "metadata": {},
   "outputs": [],
   "source": []
  },
  {
   "cell_type": "code",
   "execution_count": null,
   "metadata": {},
   "outputs": [],
   "source": []
  },
  {
   "cell_type": "code",
   "execution_count": null,
   "metadata": {},
   "outputs": [],
   "source": []
  },
  {
   "cell_type": "code",
   "execution_count": null,
   "metadata": {},
   "outputs": [],
   "source": [
    "np.argmax([10,14,15,45])"
   ]
  },
  {
   "cell_type": "code",
   "execution_count": null,
   "metadata": {},
   "outputs": [],
   "source": []
  },
  {
   "cell_type": "code",
   "execution_count": null,
   "metadata": {},
   "outputs": [],
   "source": []
  },
  {
   "cell_type": "code",
   "execution_count": null,
   "metadata": {},
   "outputs": [],
   "source": []
  }
 ],
 "metadata": {
  "kernelspec": {
   "display_name": "Python 3",
   "language": "python",
   "name": "python3"
  },
  "language_info": {
   "codemirror_mode": {
    "name": "ipython",
    "version": 3
   },
   "file_extension": ".py",
   "mimetype": "text/x-python",
   "name": "python",
   "nbconvert_exporter": "python",
   "pygments_lexer": "ipython3",
   "version": "3.7.3"
  }
 },
 "nbformat": 4,
 "nbformat_minor": 2
}
